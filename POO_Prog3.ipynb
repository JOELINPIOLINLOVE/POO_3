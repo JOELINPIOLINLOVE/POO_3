{
 "cells": [
  {
   "cell_type": "markdown",
   "id": "8e9ad57d",
   "metadata": {},
   "source": [
    "# Problema del paradigma procesual "
   ]
  },
  {
   "cell_type": "code",
   "execution_count": null,
   "id": "c26a4143",
   "metadata": {},
   "outputs": [],
   "source": [
    "numero = 123\n",
    "titular = 'anacleto metralla'\n",
    "saldo = 100.0\n",
    "limite = 1000.0\n",
    "\n",
    "cuenta = {\n",
    "    'numero' : 123,\n",
    "    'titular': 'anacleto metralla',\n",
    "    'saldo' : 100.0,\n",
    "    'limite' : 1000.0}\n",
    "\n",
    "print(cuenta['limite'])"
   ]
  },
  {
   "cell_type": "code",
   "execution_count": null,
   "id": "c708e096",
   "metadata": {},
   "outputs": [],
   "source": []
  },
  {
   "cell_type": "code",
   "execution_count": null,
   "id": "f2c7f713",
   "metadata": {},
   "outputs": [],
   "source": [
    "from test import crear_cuenta\n",
    "cuenta = crear_cuenta(123, 'anacleto metralla', 100.0, 1000.0)\n",
    "cuenta['numero']"
   ]
  },
  {
   "cell_type": "markdown",
   "id": "319470b9",
   "metadata": {},
   "source": [
    "## vamos a crear una nueva funcionalidad en nuestro archivo: test.py"
   ]
  },
  {
   "cell_type": "code",
   "execution_count": null,
   "id": "d229a58c",
   "metadata": {},
   "outputs": [],
   "source": [
    "def depositar(cuenta,valor):\n",
    "    cuenta['saldo'] = cuenta ['saldo'] + valor\n",
    "\n",
    "def depositar(cuenta,valor):\n",
    "    cuenta['saldo'] = cuenta ['saldo'] - valor\n",
    "    \n",
    "def extracto(cuenta):\n",
    "    print ('saldo actual es de Bs. {}'. format(cuenta['saldo']))"
   ]
  },
  {
   "cell_type": "markdown",
   "id": "2809cf65",
   "metadata": {},
   "source": [
    "## vamos a probar nuestra implementacion"
   ]
  },
  {
   "cell_type": "code",
   "execution_count": null,
   "id": "4f62c5be",
   "metadata": {},
   "outputs": [],
   "source": [
    "from test import crear_cuenta, depositar, retirar, extracto\n",
    "cuenta = crear_cuenta(123, \"Anacleto Metralla\", 100.0, 1000.0)\n",
    "depositar(cuenta, 30)\n",
    "extracto(cuenta)"
   ]
  },
  {
   "cell_type": "code",
   "execution_count": null,
   "id": "7ded150f",
   "metadata": {},
   "outputs": [],
   "source": [
    "retirar(cuneta,50)\n"
   ]
  },
  {
   "cell_type": "code",
   "execution_count": null,
   "id": "44e4d3ea",
   "metadata": {},
   "outputs": [],
   "source": [
    "cuenta2 = {'numero':321,'saldo':400}"
   ]
  },
  {
   "cell_type": "markdown",
   "id": "6aade966",
   "metadata": {},
   "source": [
    "## "
   ]
  },
  {
   "cell_type": "markdown",
   "id": "08a6a358",
   "metadata": {},
   "source": [
    "## calmos a crear un nuevo archivo cuenta.py que tendra el diguiente codigo..."
   ]
  },
  {
   "cell_type": "code",
   "execution_count": null,
   "id": "ec99b77b",
   "metadata": {},
   "outputs": [],
   "source": [
    "class Cuenta:\n",
    "    pass"
   ]
  },
  {
   "cell_type": "code",
   "execution_count": null,
   "id": "c28fcd50",
   "metadata": {},
   "outputs": [],
   "source": [
    "from cuenta import Cuenta\n",
    "Cuenta()"
   ]
  },
  {
   "cell_type": "code",
   "execution_count": null,
   "id": "ffa0723d",
   "metadata": {},
   "outputs": [],
   "source": [
    "cuenta = Cuenta()\n",
    "cuenta"
   ]
  },
  {
   "cell_type": "markdown",
   "id": "8d7b0ff6",
   "metadata": {},
   "source": [
    "#  Vamos a implementar nuestra clase...Cuenta"
   ]
  },
  {
   "cell_type": "code",
   "execution_count": null,
   "id": "d57372c7",
   "metadata": {},
   "outputs": [],
   "source": [
    "class Cuenta:\n",
    "    def __init__(self):\n",
    "        print('Construyendo el Objeto...')"
   ]
  },
  {
   "cell_type": "code",
   "execution_count": null,
   "id": "569f4f9e",
   "metadata": {},
   "outputs": [],
   "source": [
    "from cuenta import Cuenta\n",
    "cuenta = Cuenta()\n",
    "cuenta"
   ]
  },
  {
   "cell_type": "markdown",
   "id": "e977f1da",
   "metadata": {},
   "source": [
    "# Vamos a comenzar a definir los ATRIBUTOS..."
   ]
  },
  {
   "cell_type": "code",
   "execution_count": null,
   "id": "b6221bf6",
   "metadata": {},
   "outputs": [],
   "source": [
    "class Cuenta:\n",
    "    def __init__(self):\n",
    "        print('Construyendo el Objeto...{}'.format(self))"
   ]
  },
  {
   "cell_type": "code",
   "execution_count": null,
   "id": "ea86ef33",
   "metadata": {},
   "outputs": [],
   "source": [
    "from cuenta import Cuenta\n",
    "cuenta = Cuenta()\n",
    "cuenta"
   ]
  },
  {
   "cell_type": "markdown",
   "id": "d2053734",
   "metadata": {},
   "source": [
    "# self es la referencia que sabe encontrar el objeto\n",
    "# construido en la memoria."
   ]
  },
  {
   "cell_type": "code",
   "execution_count": null,
   "id": "1986908e",
   "metadata": {},
   "outputs": [],
   "source": [
    "class Cuenta:\n",
    "    def __init__(self):\n",
    "        print('Construyendo el Objeto...{}'.format(self))\n",
    "        self.numero = 123\n",
    "        self.titular = 'Anacleto Metralla'\n",
    "        self.saldo = 100.0\n",
    "        self.limite = 1000.0"
   ]
  },
  {
   "cell_type": "markdown",
   "id": "0ceccaca",
   "metadata": {},
   "source": [
    "# Podemos asignar PARAMETROS a nuestra clase, al momento de crear un OBJETO"
   ]
  },
  {
   "cell_type": "code",
   "execution_count": null,
   "id": "92366b3e",
   "metadata": {},
   "outputs": [],
   "source": [
    "class Cuenta:\n",
    "    def __init__(self, numero, titular, saldo, limite):\n",
    "        print('Construyendo el Objeto...{}'.format(self))\n",
    "        self.numero = numero\n",
    "        self.titular = titular\n",
    "        self.saldo = saldo\n",
    "        self.limite = limite"
   ]
  },
  {
   "cell_type": "code",
   "execution_count": null,
   "id": "711898c4",
   "metadata": {},
   "outputs": [],
   "source": [
    "from cuenta import Cuenta\n",
    "cuenta = Cuenta()\n",
    "cuenta"
   ]
  },
  {
   "cell_type": "code",
   "execution_count": null,
   "id": "5002706c",
   "metadata": {},
   "outputs": [],
   "source": [
    "from cuenta import Cuenta\n",
    "cuenta = Cuenta(123,'Anacleto Metralla',100.0,1000.0)"
   ]
  },
  {
   "cell_type": "code",
   "execution_count": null,
   "id": "ec6c29fb",
   "metadata": {},
   "outputs": [],
   "source": [
    "from cuenta import Cuenta\n",
    "cuenta2 = Cuenta(123,'Rosa Flores Rojas',65.0,1000.0)"
   ]
  },
  {
   "cell_type": "code",
   "execution_count": null,
   "id": "f5920b94",
   "metadata": {},
   "outputs": [],
   "source": [
    "cuenta"
   ]
  },
  {
   "cell_type": "markdown",
   "id": "fba0e36f",
   "metadata": {},
   "source": [
    "# Accesando a los atributos definidos en la CLASE"
   ]
  },
  {
   "cell_type": "code",
   "execution_count": null,
   "id": "a7c0d4a5",
   "metadata": {},
   "outputs": [],
   "source": [
    "cuenta.saldo"
   ]
  },
  {
   "cell_type": "code",
   "execution_count": null,
   "id": "23ea52f4",
   "metadata": {},
   "outputs": [],
   "source": [
    "cuenta.titular"
   ]
  },
  {
   "cell_type": "code",
   "execution_count": null,
   "id": "667f7d6f",
   "metadata": {},
   "outputs": [],
   "source": [
    "cuenta2.saldo"
   ]
  },
  {
   "cell_type": "code",
   "execution_count": null,
   "id": "6077c683",
   "metadata": {},
   "outputs": [],
   "source": [
    "cuenta2.tutular"
   ]
  },
  {
   "cell_type": "markdown",
   "id": "27deb2d2",
   "metadata": {},
   "source": [
    "# METODOS: Como implemetamos "
   ]
  },
  {
   "cell_type": "code",
   "execution_count": null,
   "id": "3647b2e2",
   "metadata": {},
   "outputs": [],
   "source": [
    "class Cuenta:\n",
    "    def __init__(self, numero, titular, saldo, limite):\n",
    "        print('Construyendo el Objeto...{}'.format(self))\n",
    "        self.numero = numero\n",
    "        self.titular = titular\n",
    "        self.saldo = saldo\n",
    "        self.limite = limite\n",
    "        \n",
    "    def extracto(self):\n",
    "        print('saldo {} del titular {}'.format(self.saldo, self.titular))"
   ]
  },
  {
   "cell_type": "code",
   "execution_count": null,
   "id": "44035d54",
   "metadata": {},
   "outputs": [],
   "source": [
    "from cuenta import Cuenta\n",
    "cuenta = Cuenta(123,'Anacleto Metralla',100.0,1000.0)"
   ]
  },
  {
   "cell_type": "code",
   "execution_count": null,
   "id": "49d668b4",
   "metadata": {},
   "outputs": [],
   "source": [
    "extracto()"
   ]
  },
  {
   "cell_type": "code",
   "execution_count": null,
   "id": "14c2b4b2",
   "metadata": {},
   "outputs": [],
   "source": [
    "from cuenta import Cuenta\n",
    "cuenta2 = Cuenta(123,'Rosa Flores Rojas',65.0,1000.0)"
   ]
  },
  {
   "cell_type": "code",
   "execution_count": null,
   "id": "8068b424",
   "metadata": {},
   "outputs": [],
   "source": []
  },
  {
   "cell_type": "code",
   "execution_count": null,
   "id": "2159d2de",
   "metadata": {},
   "outputs": [],
   "source": [
    "cuenta.extracto()"
   ]
  },
  {
   "cell_type": "code",
   "execution_count": null,
   "id": "e97847d4",
   "metadata": {},
   "outputs": [],
   "source": []
  },
  {
   "cell_type": "code",
   "execution_count": 1,
   "id": "30633baa",
   "metadata": {},
   "outputs": [],
   "source": [
    "class Cuenta:\n",
    "    def __init__(self, numero, titular, saldo, limite):\n",
    "        print('Construyendo el Objeto...{}'.format(self))\n",
    "        self.numero = numero\n",
    "        self.titular = titular\n",
    "        self.saldo = saldo\n",
    "        self.limite = limite\n",
    "        \n",
    "    def extracto(self):\n",
    "        print('saldo {} del titular {}'.format(self.saldo, self.titular))\n",
    "    \n",
    "    def depositar(self, valor):\n",
    "        self.saldo += valor\n",
    "        \n",
    "    def retirar(self, valor):\n",
    "        self.saldo -= valor"
   ]
  },
  {
   "cell_type": "code",
   "execution_count": 2,
   "id": "a33e2bb3",
   "metadata": {},
   "outputs": [
    {
     "name": "stdout",
     "output_type": "stream",
     "text": [
      "Construyendo el Objeto...<cuenta.Cuenta object at 0x0000022AC3C1D6D0>\n"
     ]
    }
   ],
   "source": [
    "from cuenta import Cuenta\n",
    "cuenta = Cuenta(123,'Anacleto Metralla',100.0,1000.0)"
   ]
  },
  {
   "cell_type": "code",
   "execution_count": 3,
   "id": "36378119",
   "metadata": {},
   "outputs": [
    {
     "name": "stdout",
     "output_type": "stream",
     "text": [
      "saldo 100.0 del titular Anacleto Metralla\n"
     ]
    }
   ],
   "source": [
    "cuenta.extracto()"
   ]
  },
  {
   "cell_type": "code",
   "execution_count": 6,
   "id": "820b6358",
   "metadata": {},
   "outputs": [],
   "source": [
    "cuenta.depositar(10)"
   ]
  },
  {
   "cell_type": "code",
   "execution_count": 7,
   "id": "cddc4d64",
   "metadata": {},
   "outputs": [],
   "source": [
    "cuenta.retirar(20)"
   ]
  },
  {
   "cell_type": "code",
   "execution_count": 8,
   "id": "39b39b3a",
   "metadata": {},
   "outputs": [
    {
     "name": "stdout",
     "output_type": "stream",
     "text": [
      "saldo -10.0 del titular Anacleto Metralla\n"
     ]
    }
   ],
   "source": [
    "cuenta.extracto()"
   ]
  },
  {
   "cell_type": "markdown",
   "id": "6d32f847",
   "metadata": {},
   "source": [
    "# CLASE 7/11/23"
   ]
  },
  {
   "cell_type": "markdown",
   "id": "58d6a177",
   "metadata": {},
   "source": [
    "# Propiedades"
   ]
  },
  {
   "cell_type": "code",
   "execution_count": 1,
   "id": "c0e463c3",
   "metadata": {},
   "outputs": [
    {
     "ename": "ModuleNotFoundError",
     "evalue": "No module named 'cliente'",
     "output_type": "error",
     "traceback": [
      "\u001b[1;31m---------------------------------------------------------------------------\u001b[0m",
      "\u001b[1;31mModuleNotFoundError\u001b[0m                       Traceback (most recent call last)",
      "Cell \u001b[1;32mIn[1], line 1\u001b[0m\n\u001b[1;32m----> 1\u001b[0m \u001b[38;5;28;01mfrom\u001b[39;00m \u001b[38;5;21;01mcliente\u001b[39;00m \u001b[38;5;28;01mimport\u001b[39;00m Cliente\n\u001b[0;32m      2\u001b[0m cliente \u001b[38;5;241m=\u001b[39m Cliente(\u001b[38;5;124m\"\u001b[39m\u001b[38;5;124mYami Moto Nocamina\u001b[39m\u001b[38;5;124m\"\u001b[39m)\n",
      "\u001b[1;31mModuleNotFoundError\u001b[0m: No module named 'cliente'"
     ]
    }
   ],
   "source": [
    "from cliente import Cliente\n",
    "cliente = Cliente(\"Yami Moto Nocamina\")"
   ]
  },
  {
   "cell_type": "markdown",
   "id": "09b7533c",
   "metadata": {},
   "source": [
    "# Encapsulamiento"
   ]
  },
  {
   "cell_type": "code",
   "execution_count": 2,
   "id": "059aed05",
   "metadata": {},
   "outputs": [
    {
     "name": "stdout",
     "output_type": "stream",
     "text": [
      "Construyendo el Objeto...<cuenta.Cuenta object at 0x0000022161395890>\n"
     ]
    }
   ],
   "source": [
    "from cuenta import Cuenta\n",
    "cuenta = Cuenta(123,'Anacleto Metralla',100.0,1000.0)"
   ]
  },
  {
   "cell_type": "code",
   "execution_count": 4,
   "id": "e0b27bdb",
   "metadata": {},
   "outputs": [
    {
     "data": {
      "text/plain": [
       "100.0"
      ]
     },
     "execution_count": 4,
     "metadata": {},
     "output_type": "execute_result"
    }
   ],
   "source": [
    "cuenta.saldo"
   ]
  },
  {
   "cell_type": "markdown",
   "id": "d19bf5d6",
   "metadata": {},
   "source": [
    "# Para que los atributos se vuelvan privados dentro del metodo, vamos anteponer dos signos de_antes del nombre del atributo."
   ]
  },
  {
   "cell_type": "code",
   "execution_count": null,
   "id": "df68ca97",
   "metadata": {},
   "outputs": [],
   "source": [
    "class Cuenta:\n",
    "    def _init_(self, numero, titular, saldo, limite):\n",
    "        print('Construyendo el Objeto...{}'.format(self))\n",
    "        self.__numero = numero\n",
    "        self.__titular = titular\n",
    "        self.__saldo = saldo\n",
    "        self.__limite = limite\n",
    "    def extracto(self):\n",
    "        print(\"saldo {} del titular {}  \".format(self.__saldo,self.__titular))\n",
    "    \n",
    "    def depositar(self,valor):\n",
    "        self.__saldo += valor\n",
    "        \n",
    "    def retirar (self,valor):\n",
    "        if(valor<= self.saldo):\n",
    "            self.__saldo -= valor\n",
    "        else:\n",
    "            print(\"No tiene suficiente saldo\")"
   ]
  }
 ],
 "metadata": {
  "kernelspec": {
   "display_name": "Python 3 (ipykernel)",
   "language": "python",
   "name": "python3"
  },
  "language_info": {
   "codemirror_mode": {
    "name": "ipython",
    "version": 3
   },
   "file_extension": ".py",
   "mimetype": "text/x-python",
   "name": "python",
   "nbconvert_exporter": "python",
   "pygments_lexer": "ipython3",
   "version": "3.11.4"
  }
 },
 "nbformat": 4,
 "nbformat_minor": 5
}
