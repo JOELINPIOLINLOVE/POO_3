{
 "cells": [
  {
   "cell_type": "markdown",
   "id": "8e9ad57d",
   "metadata": {},
   "source": [
    "# Problema del paradigma procesual "
   ]
  },
  {
   "cell_type": "code",
   "execution_count": null,
   "id": "c26a4143",
   "metadata": {},
   "outputs": [],
   "source": [
    "numero = 123\n",
    "titular = 'anacleto metralla'\n",
    "saldo = 100.0\n",
    "limite = 1000.0\n",
    "\n",
    "cuenta = {\n",
    "    'numero' : 123,\n",
    "    'titular': 'anacleto metralla',\n",
    "    'saldo' : 100.0,\n",
    "    'limite' : 1000.0}\n",
    "\n",
    "print(cuenta['limite'])"
   ]
  },
  {
   "cell_type": "code",
   "execution_count": null,
   "id": "c708e096",
   "metadata": {},
   "outputs": [],
   "source": []
  },
  {
   "cell_type": "code",
   "execution_count": null,
   "id": "f2c7f713",
   "metadata": {},
   "outputs": [],
   "source": [
    "from test import crear_cuenta\n",
    "cuenta = crear_cuenta(123, 'anacleto metralla', 100.0, 1000.0)\n",
    "cuenta['numero']"
   ]
  },
  {
   "cell_type": "markdown",
   "id": "319470b9",
   "metadata": {},
   "source": [
    "## vamos a crear una nueva funcionalidad en nuestro archivo: test.py"
   ]
  },
  {
   "cell_type": "code",
   "execution_count": null,
   "id": "d229a58c",
   "metadata": {},
   "outputs": [],
   "source": [
    "def depositar(cuenta,valor):\n",
    "    cuenta['saldo'] = cuenta ['saldo'] + valor\n",
    "\n",
    "def depositar(cuenta,valor):\n",
    "    cuenta['saldo'] = cuenta ['saldo'] - valor\n",
    "    \n",
    "def extracto(cuenta):\n",
    "    print ('saldo actual es de Bs. {}'. format(cuenta['saldo']))"
   ]
  },
  {
   "cell_type": "markdown",
   "id": "2809cf65",
   "metadata": {},
   "source": [
    "## vamos a probar nuestra implementacion"
   ]
  },
  {
   "cell_type": "code",
   "execution_count": null,
   "id": "4f62c5be",
   "metadata": {},
   "outputs": [],
   "source": [
    "from test import crear_cuenta, depositar, retirar, extracto\n",
    "cuenta = crear_cuenta(123, \"Anacleto Metralla\", 100.0, 1000.0)\n",
    "depositar(cuenta, 30)\n",
    "extracto(cuenta)"
   ]
  },
  {
   "cell_type": "code",
   "execution_count": null,
   "id": "7ded150f",
   "metadata": {},
   "outputs": [],
   "source": [
    "retirar(cuneta,50)\n"
   ]
  },
  {
   "cell_type": "code",
   "execution_count": null,
   "id": "5fd04deb",
   "metadata": {},
   "outputs": [],
   "source": [
    "cuenta2 = {'numero':321,'saldo':400}"
   ]
  },
  {
   "cell_type": "markdown",
   "id": "6aade966",
   "metadata": {},
   "source": [
    "## "
   ]
  },
  {
   "cell_type": "markdown",
   "id": "08a6a358",
   "metadata": {},
   "source": [
    "## calmos a crear un nuevo archivo cuenta.py que tendra el diguiente codigo..."
   ]
  },
  {
   "cell_type": "code",
   "execution_count": null,
   "id": "ec99b77b",
   "metadata": {},
   "outputs": [],
   "source": [
    "class Cuenta:\n",
    "    pass"
   ]
  },
  {
   "cell_type": "code",
   "execution_count": null,
   "id": "c28fcd50",
   "metadata": {},
   "outputs": [],
   "source": [
    "from cuenta import Cuenta\n",
    "Cuenta()"
   ]
  },
  {
   "cell_type": "code",
   "execution_count": null,
   "id": "ffa0723d",
   "metadata": {},
   "outputs": [],
   "source": [
    "cuenta = Cuenta()\n",
    "cuenta"
   ]
  },
  {
   "cell_type": "markdown",
   "id": "60c63791",
   "metadata": {},
   "source": [
    "#  Vamos a implementar nuestra clase...Cuenta"
   ]
  },
  {
   "cell_type": "code",
   "execution_count": null,
   "id": "4501ad93",
   "metadata": {},
   "outputs": [],
   "source": [
    "class Cuenta:\n",
    "    def __init__(self):\n",
    "        print('Construyendo el Objeto...')"
   ]
  },
  {
   "cell_type": "code",
   "execution_count": null,
   "id": "50ee4e97",
   "metadata": {},
   "outputs": [],
   "source": [
    "from cuenta import Cuenta\n",
    "cuenta = Cuenta()\n",
    "cuenta"
   ]
  },
  {
   "cell_type": "markdown",
   "id": "a73c9cbb",
   "metadata": {},
   "source": [
    "# Vamos a comenzar a definir los ATRIBUTOS..."
   ]
  },
  {
   "cell_type": "code",
   "execution_count": null,
   "id": "280f8238",
   "metadata": {},
   "outputs": [],
   "source": [
    "class Cuenta:\n",
    "    def __init__(self):\n",
    "        print('Construyendo el Objeto...{}'.format(self))"
   ]
  },
  {
   "cell_type": "code",
   "execution_count": null,
   "id": "46195c8d",
   "metadata": {},
   "outputs": [],
   "source": [
    "from cuenta import Cuenta\n",
    "cuenta = Cuenta()\n",
    "cuenta"
   ]
  },
  {
   "cell_type": "markdown",
   "id": "c7b1bee2",
   "metadata": {},
   "source": [
    "# self es la referencia que sabe encontrar el objeto\n",
    "# construido en la memoria."
   ]
  },
  {
   "cell_type": "code",
   "execution_count": null,
   "id": "7dca07db",
   "metadata": {},
   "outputs": [],
   "source": [
    "class Cuenta:\n",
    "    def __init__(self):\n",
    "        print('Construyendo el Objeto...{}'.format(self))\n",
    "        self.numero = 123\n",
    "        self.titular = 'Anacleto Metralla'\n",
    "        self.saldo = 100.0\n",
    "        self.limite = 1000.0"
   ]
  },
  {
   "cell_type": "markdown",
   "id": "6afe664e",
   "metadata": {},
   "source": [
    "# Podemos asignar PARAMETROS a nuestra clase, al momento de crear un OBJETO"
   ]
  },
  {
   "cell_type": "code",
   "execution_count": null,
   "id": "6799f4e6",
   "metadata": {},
   "outputs": [],
   "source": [
    "class Cuenta:\n",
    "    def __init__(self, numero, titular, saldo, limite):\n",
    "        print('Construyendo el Objeto...{}'.format(self))\n",
    "        self.numero = numero\n",
    "        self.titular = titular\n",
    "        self.saldo = saldo\n",
    "        self.limite = limite"
   ]
  },
  {
   "cell_type": "code",
   "execution_count": null,
   "id": "66139f8f",
   "metadata": {},
   "outputs": [],
   "source": [
    "from cuenta import Cuenta\n",
    "cuenta = Cuenta()\n",
    "cuenta"
   ]
  },
  {
   "cell_type": "code",
   "execution_count": null,
   "id": "15e4bdfc",
   "metadata": {},
   "outputs": [],
   "source": [
    "from cuenta import Cuenta\n",
    "cuenta = Cuenta(123,'Anacleto Metralla',100.0,1000.0)"
   ]
  },
  {
   "cell_type": "code",
   "execution_count": null,
   "id": "f0508c1e",
   "metadata": {},
   "outputs": [],
   "source": [
    "from cuenta import Cuenta\n",
    "cuenta2 = Cuenta(123,'Rosa Flores Rojas',65.0,1000.0)"
   ]
  },
  {
   "cell_type": "code",
   "execution_count": null,
   "id": "fa64b4c2",
   "metadata": {},
   "outputs": [],
   "source": [
    "cuenta"
   ]
  },
  {
   "cell_type": "markdown",
   "id": "15ab86f0",
   "metadata": {},
   "source": [
    "# Accesando a los atributos definidos en la CLASE"
   ]
  },
  {
   "cell_type": "code",
   "execution_count": null,
   "id": "12c97468",
   "metadata": {},
   "outputs": [],
   "source": [
    "cuenta.saldo"
   ]
  },
  {
   "cell_type": "code",
   "execution_count": null,
   "id": "57a2fbf5",
   "metadata": {},
   "outputs": [],
   "source": [
    "cuenta.titular"
   ]
  },
  {
   "cell_type": "code",
   "execution_count": null,
   "id": "a6d8aaf3",
   "metadata": {},
   "outputs": [],
   "source": [
    "cuenta2.saldo"
   ]
  },
  {
   "cell_type": "code",
   "execution_count": null,
   "id": "cb9a6790",
   "metadata": {},
   "outputs": [],
   "source": [
    "cuenta2.tutular"
   ]
  },
  {
   "cell_type": "markdown",
   "id": "c4a84824",
   "metadata": {},
   "source": [
    "# METODOS: Como implemetamos "
   ]
  },
  {
   "cell_type": "code",
   "execution_count": 1,
   "id": "918bf0c7",
   "metadata": {},
   "outputs": [],
   "source": [
    "class Cuenta:\n",
    "    def __init__(self, numero, titular, saldo, limite):\n",
    "        print('Construyendo el Objeto...{}'.format(self))\n",
    "        self.numero = numero\n",
    "        self.titular = titular\n",
    "        self.saldo = saldo\n",
    "        self.limite = limite\n",
    "        \n",
    "    def extracto(self):\n",
    "        print('saldo {} del titular {}'.format(self.saldo, self.titular))"
   ]
  },
  {
   "cell_type": "code",
   "execution_count": 2,
   "id": "6155b8fd",
   "metadata": {},
   "outputs": [
    {
     "name": "stdout",
     "output_type": "stream",
     "text": [
      "Construyendo el Objeto...<cuenta.Cuenta object at 0x0000020E0E0CA850>\n"
     ]
    }
   ],
   "source": [
    "from cuenta import Cuenta\n",
    "cuenta = Cuenta(123,'Anacleto Metralla',100.0,1000.0)"
   ]
  },
  {
   "cell_type": "code",
   "execution_count": 3,
   "id": "b6edbda8",
   "metadata": {},
   "outputs": [
    {
     "ename": "NameError",
     "evalue": "name 'extracto' is not defined",
     "output_type": "error",
     "traceback": [
      "\u001b[1;31m---------------------------------------------------------------------------\u001b[0m",
      "\u001b[1;31mNameError\u001b[0m                                 Traceback (most recent call last)",
      "Cell \u001b[1;32mIn[3], line 1\u001b[0m\n\u001b[1;32m----> 1\u001b[0m extracto()\n",
      "\u001b[1;31mNameError\u001b[0m: name 'extracto' is not defined"
     ]
    }
   ],
   "source": [
    "extracto()"
   ]
  },
  {
   "cell_type": "code",
   "execution_count": 4,
   "id": "f390aec5",
   "metadata": {},
   "outputs": [
    {
     "name": "stdout",
     "output_type": "stream",
     "text": [
      "Construyendo el Objeto...<cuenta.Cuenta object at 0x0000020E0E0CD1D0>\n"
     ]
    }
   ],
   "source": [
    "from cuenta import Cuenta\n",
    "cuenta2 = Cuenta(123,'Rosa Flores Rojas',65.0,1000.0)"
   ]
  },
  {
   "cell_type": "code",
   "execution_count": null,
   "id": "047e562c",
   "metadata": {},
   "outputs": [],
   "source": []
  },
  {
   "cell_type": "code",
   "execution_count": 5,
   "id": "5e3ed9ba",
   "metadata": {},
   "outputs": [
    {
     "ename": "TypeError",
     "evalue": "Cuenta.extracto() takes 0 positional arguments but 1 was given",
     "output_type": "error",
     "traceback": [
      "\u001b[1;31m---------------------------------------------------------------------------\u001b[0m",
      "\u001b[1;31mTypeError\u001b[0m                                 Traceback (most recent call last)",
      "Cell \u001b[1;32mIn[5], line 1\u001b[0m\n\u001b[1;32m----> 1\u001b[0m cuenta\u001b[38;5;241m.\u001b[39mextracto()\n",
      "\u001b[1;31mTypeError\u001b[0m: Cuenta.extracto() takes 0 positional arguments but 1 was given"
     ]
    }
   ],
   "source": [
    "cuenta.extracto()"
   ]
  },
  {
   "cell_type": "code",
   "execution_count": null,
   "id": "e15701d6",
   "metadata": {},
   "outputs": [],
   "source": []
  }
 ],
 "metadata": {
  "kernelspec": {
   "display_name": "Python 3 (ipykernel)",
   "language": "python",
   "name": "python3"
  },
  "language_info": {
   "codemirror_mode": {
    "name": "ipython",
    "version": 3
   },
   "file_extension": ".py",
   "mimetype": "text/x-python",
   "name": "python",
   "nbconvert_exporter": "python",
   "pygments_lexer": "ipython3",
   "version": "3.11.4"
  }
 },
 "nbformat": 4,
 "nbformat_minor": 5
}
