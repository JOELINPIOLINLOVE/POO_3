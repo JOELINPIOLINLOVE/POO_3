{
 "cells": [
  {
   "cell_type": "markdown",
   "id": "8e9ad57d",
   "metadata": {},
   "source": [
    "# Problema del paradigma procesual "
   ]
  },
  {
   "cell_type": "code",
   "execution_count": null,
   "id": "c26a4143",
   "metadata": {},
   "outputs": [],
   "source": [
    "numero = 123\n",
    "titular = 'anacleto metralla'\n",
    "saldo = 100.0\n",
    "limite = 1000.0\n",
    "\n",
    "cuenta = {\n",
    "    'numero' : 123,\n",
    "    'titular': 'anacleto metralla',\n",
    "    'saldo' : 100.0,\n",
    "    'limite' : 1000.0}\n",
    "\n",
    "print(cuenta['limite'])"
   ]
  },
  {
   "cell_type": "code",
   "execution_count": null,
   "id": "c708e096",
   "metadata": {},
   "outputs": [],
   "source": []
  },
  {
   "cell_type": "code",
   "execution_count": null,
   "id": "f2c7f713",
   "metadata": {},
   "outputs": [],
   "source": [
    "from test import crear_cuenta\n",
    "cuenta = crear_cuenta(123, 'anacleto metralla', 100.0, 1000.0)\n",
    "cuenta['numero']"
   ]
  },
  {
   "cell_type": "markdown",
   "id": "319470b9",
   "metadata": {},
   "source": [
    "## vamos a crear una nueva funcionalidad en nuestro archivo: test.py"
   ]
  },
  {
   "cell_type": "code",
   "execution_count": null,
   "id": "d229a58c",
   "metadata": {},
   "outputs": [],
   "source": [
    "def depositar(cuenta,valor):\n",
    "    cuenta['saldo'] = cuenta ['saldo'] + valor\n",
    "\n",
    "def depositar(cuenta,valor):\n",
    "    cuenta['saldo'] = cuenta ['saldo'] - valor\n",
    "    \n",
    "def extracto(cuenta):\n",
    "    print ('saldo actual es de Bs. {}'. format(cuenta['saldo']))"
   ]
  },
  {
   "cell_type": "markdown",
   "id": "2809cf65",
   "metadata": {},
   "source": [
    "## vamos a probar nuestra implementacion"
   ]
  },
  {
   "cell_type": "code",
   "execution_count": null,
   "id": "4f62c5be",
   "metadata": {},
   "outputs": [],
   "source": [
    "from test import crear_cuenta, depositar, retirar, extracto\n",
    "cuenta = crear_cuenta(123, \"Anacleto Metralla\", 100.0, 1000.0)\n",
    "depositar(cuenta, 30)\n",
    "extracto(cuenta)"
   ]
  },
  {
   "cell_type": "code",
   "execution_count": null,
   "id": "7ded150f",
   "metadata": {},
   "outputs": [],
   "source": [
    "retirar(cuneta,50)\n"
   ]
  },
  {
   "cell_type": "code",
   "execution_count": null,
   "id": "d294d18f",
   "metadata": {},
   "outputs": [],
   "source": [
    "cuenta2 = {'numero':321,'saldo':400}"
   ]
  },
  {
   "cell_type": "markdown",
   "id": "6aade966",
   "metadata": {},
   "source": [
    "## "
   ]
  },
  {
   "cell_type": "markdown",
   "id": "08a6a358",
   "metadata": {},
   "source": [
    "## calmos a crear un nuevo archivo cuenta.py que tendra el diguiente codigo..."
   ]
  },
  {
   "cell_type": "code",
   "execution_count": null,
   "id": "ec99b77b",
   "metadata": {},
   "outputs": [],
   "source": [
    "class Cuenta:\n",
    "    pass"
   ]
  },
  {
   "cell_type": "code",
   "execution_count": null,
   "id": "c28fcd50",
   "metadata": {},
   "outputs": [],
   "source": [
    "from cuenta import Cuenta\n",
    "Cuenta()"
   ]
  },
  {
   "cell_type": "code",
   "execution_count": null,
   "id": "ffa0723d",
   "metadata": {},
   "outputs": [],
   "source": [
    "cuenta = Cuenta()\n",
    "cuenta"
   ]
  },
  {
   "cell_type": "markdown",
   "id": "5c1b3074",
   "metadata": {},
   "source": [
    "#  Vamos a implementar nuestra clase...Cuenta"
   ]
  },
  {
   "cell_type": "code",
   "execution_count": null,
   "id": "48989104",
   "metadata": {},
   "outputs": [],
   "source": [
    "class Cuenta:\n",
    "    def __init__(self):\n",
    "        print('Construyendo el Objeto...')"
   ]
  },
  {
   "cell_type": "code",
   "execution_count": 1,
   "id": "e9c104b3",
   "metadata": {},
   "outputs": [
    {
     "name": "stdout",
     "output_type": "stream",
     "text": [
      "Construyendo el Objeto...\n"
     ]
    },
    {
     "data": {
      "text/plain": [
       "<cuenta.Cuenta at 0x1585d095bd0>"
      ]
     },
     "execution_count": 1,
     "metadata": {},
     "output_type": "execute_result"
    }
   ],
   "source": [
    "from cuenta import Cuenta\n",
    "cuenta = Cuenta()\n",
    "cuenta"
   ]
  },
  {
   "cell_type": "markdown",
   "id": "f0e6bdef",
   "metadata": {},
   "source": [
    "# Vamos a comenzar a definir los ATRIBUTOS..."
   ]
  },
  {
   "cell_type": "code",
   "execution_count": null,
   "id": "2a22ca52",
   "metadata": {},
   "outputs": [],
   "source": [
    "class Cuenta:\n",
    "    def __init__(self):\n",
    "        print('Construyendo el Objeto...{}'.format(self))"
   ]
  },
  {
   "cell_type": "code",
   "execution_count": 2,
   "id": "4642b327",
   "metadata": {},
   "outputs": [
    {
     "name": "stdout",
     "output_type": "stream",
     "text": [
      "Construyendo el Objeto...\n"
     ]
    },
    {
     "data": {
      "text/plain": [
       "<cuenta.Cuenta at 0x1585d0dec90>"
      ]
     },
     "execution_count": 2,
     "metadata": {},
     "output_type": "execute_result"
    }
   ],
   "source": [
    "from cuenta import Cuenta\n",
    "cuenta = Cuenta()\n",
    "cuenta"
   ]
  },
  {
   "cell_type": "markdown",
   "id": "087c99af",
   "metadata": {},
   "source": [
    "# self es la referencia que sabe encontrar el objeto\n",
    "# construido en la memoria."
   ]
  },
  {
   "cell_type": "code",
   "execution_count": 3,
   "id": "5f36ef5b",
   "metadata": {},
   "outputs": [],
   "source": [
    "class Cuenta:\n",
    "    def __init__(self):\n",
    "        print('Construyendo el Objeto...{}'.format(self))\n",
    "        self.numero = 123\n",
    "        self.titular = 'Anacleto Metralla'\n",
    "        self.saldo = 100.0\n",
    "        self.limite = 1000.0"
   ]
  },
  {
   "cell_type": "markdown",
   "id": "6285d0bb",
   "metadata": {},
   "source": [
    "# Podemos asignar PARAMETROS a nuestra clase, al momento de crear un OBJETO"
   ]
  },
  {
   "cell_type": "code",
   "execution_count": 4,
   "id": "c4b8b7fb",
   "metadata": {},
   "outputs": [],
   "source": [
    "class Cuenta:\n",
    "    def __init__(self, numero, titular, saldo, limite):\n",
    "        print('Construyendo el Objeto...{}'.format(self))\n",
    "        self.numero = numero\n",
    "        self.titular = titular\n",
    "        self.saldo = saldo\n",
    "        self.limite = limite"
   ]
  },
  {
   "cell_type": "code",
   "execution_count": null,
   "id": "62fc1d0d",
   "metadata": {},
   "outputs": [],
   "source": []
  }
 ],
 "metadata": {
  "kernelspec": {
   "display_name": "Python 3 (ipykernel)",
   "language": "python",
   "name": "python3"
  },
  "language_info": {
   "codemirror_mode": {
    "name": "ipython",
    "version": 3
   },
   "file_extension": ".py",
   "mimetype": "text/x-python",
   "name": "python",
   "nbconvert_exporter": "python",
   "pygments_lexer": "ipython3",
   "version": "3.11.4"
  }
 },
 "nbformat": 4,
 "nbformat_minor": 5
}
